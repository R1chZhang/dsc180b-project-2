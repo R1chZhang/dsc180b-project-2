{
 "cells": [
  {
   "cell_type": "code",
   "execution_count": 116,
   "id": "9c49ba0b",
   "metadata": {},
   "outputs": [
    {
     "name": "stdout",
     "output_type": "stream",
     "text": [
      "Exception at vehicle 0 230\n",
      "Exception at \n",
      "Exception at animal 0 123\n",
      "Exception at \n",
      "Exception at \n",
      "Exception at household 0 219\n",
      "Exception at \n",
      "Exception at \n",
      "Exception at building 0 53\n",
      "Exception at \n",
      "Exception at furniture 0 104\n",
      "Exception at plant 0 78\n",
      "Exception at \n",
      "Exception at -1 0 100\n",
      "Exception at \n",
      "Exception at \n",
      "Exception at \n",
      "Exception at \n",
      "Exception at \n",
      "Exception at \n",
      "Exception at \n",
      "Exception at \n",
      "230\n",
      "123\n",
      "219\n",
      "53\n",
      "104\n",
      "78\n",
      "100\n",
      "0\n"
     ]
    },
    {
     "data": {
      "text/plain": [
       "907"
      ]
     },
     "execution_count": 116,
     "metadata": {},
     "output_type": "execute_result"
    }
   ],
   "source": [
    "import numpy as np \n",
    "\n",
    "with open('coarse2Train.cla') as f:\n",
    "    lines = f.readlines()\n",
    "\n",
    "lines = [i.replace('\\n', '') for i in lines][2:]\n",
    "lines\n",
    "\n",
    "trainidx = []\n",
    "for i in lines:\n",
    "    if i == '' and (len(trainidx)==0 or trainidx[-1] != []):\n",
    "        trainidx.append([])\n",
    "    else:\n",
    "        try:\n",
    "            trainidx[-1].append(int(i))\n",
    "        except:\n",
    "            print(\"Exception at \" + i)\n",
    "\n",
    "sum = 0\n",
    "for i in trainidx:\n",
    "    print(len(i))\n",
    "    sum += len(i)\n",
    "sum"
   ]
  },
  {
   "cell_type": "code",
   "execution_count": 117,
   "id": "20ecf883",
   "metadata": {},
   "outputs": [
    {
     "name": "stdout",
     "output_type": "stream",
     "text": [
      "Exception at vehicle 0 245 \n",
      "Exception at animal 0 155\n",
      "Exception at household 0 185  \n",
      "Exception at \n",
      "Exception at \n",
      "Exception at building 0 47\n",
      "Exception at \n",
      "Exception at \n",
      "Exception at \n",
      "Exception at furniture 0 94  \n",
      "Exception at plant 0 60\n",
      "Exception at \n",
      "Exception at \n",
      "Exception at -1 0 121\n",
      "245\n",
      "155\n",
      "185\n",
      "47\n",
      "94\n",
      "60\n",
      "121\n",
      "0\n"
     ]
    },
    {
     "data": {
      "text/plain": [
       "907"
      ]
     },
     "execution_count": 117,
     "metadata": {},
     "output_type": "execute_result"
    }
   ],
   "source": [
    "import numpy as np \n",
    "\n",
    "with open('coarse2Test.cla') as f:\n",
    "    lines = f.readlines()\n",
    "\n",
    "lines = [i.replace('\\n', '') for i in lines][2:]\n",
    "lines\n",
    "\n",
    "testidx = []\n",
    "for i in lines:\n",
    "    if i == '' and (len(testidx)==0 or testidx[-1] != []):\n",
    "        testidx.append([])\n",
    "    else:\n",
    "        try:\n",
    "            testidx[-1].append(int(i))\n",
    "        except:\n",
    "            print(\"Exception at \" + i)\n",
    "\n",
    "sum = 0\n",
    "for i in testidx:\n",
    "    print(len(i))\n",
    "    sum += len(i)\n",
    "sum"
   ]
  },
  {
   "cell_type": "code",
   "execution_count": 118,
   "id": "d719779f",
   "metadata": {},
   "outputs": [],
   "source": [
    "totalidx = []\n",
    "for i in range(len(trainidx)-1):\n",
    "    totalidx.append(np.append(trainidx[i], testidx[i]))"
   ]
  },
  {
   "cell_type": "code",
   "execution_count": 119,
   "id": "e3dea3f2",
   "metadata": {},
   "outputs": [
    {
     "name": "stdout",
     "output_type": "stream",
     "text": [
      "475\n",
      "278\n",
      "404\n",
      "100\n",
      "198\n",
      "138\n",
      "221\n"
     ]
    },
    {
     "data": {
      "text/plain": [
       "1814"
      ]
     },
     "execution_count": 119,
     "metadata": {},
     "output_type": "execute_result"
    }
   ],
   "source": [
    "sum = 0\n",
    "for i in totalidx:\n",
    "    print(len(i))\n",
    "    sum += len(i)\n",
    "sum"
   ]
  },
  {
   "cell_type": "code",
   "execution_count": 120,
   "id": "a642414a",
   "metadata": {},
   "outputs": [],
   "source": [
    "import random\n",
    "import math\n",
    "\n",
    "trainratio = .6\n",
    "valratio = .2\n",
    "testratio = .2\n",
    "\n",
    "\n",
    "trainsamp = []\n",
    "valsamp = []\n",
    "testsamp = []\n",
    "for i in totalidx:\n",
    "    random.shuffle(i)\n",
    "    trainidx = round(len(i)*trainratio)\n",
    "    validx = round(len(i)*valratio)\n",
    "    testidx = len(i) - round(len(i)*trainratio) - round(len(i)*valratio)\n",
    "    trainsamp.append(i[:trainidx])\n",
    "    valsamp.append(i[trainidx:trainidx+validx])\n",
    "    testsamp.append(i[trainidx+validx:])\n"
   ]
  },
  {
   "cell_type": "code",
   "execution_count": 121,
   "id": "77677f36",
   "metadata": {},
   "outputs": [
    {
     "name": "stderr",
     "output_type": "stream",
     "text": [
      "/tmp/ipykernel_11612/3525990847.py:1: VisibleDeprecationWarning: Creating an ndarray from ragged nested sequences (which is a list-or-tuple of lists-or-tuples-or ndarrays with different lengths or shapes) is deprecated. If you meant to do this, you must specify 'dtype=object' when creating the ndarray.\n",
      "  np.array(trainsamp).shape, np.array(valsamp).shape, np.array(testsamp).shape\n"
     ]
    },
    {
     "data": {
      "text/plain": [
       "((7,), (7,), (7,))"
      ]
     },
     "execution_count": 121,
     "metadata": {},
     "output_type": "execute_result"
    }
   ],
   "source": [
    "np.array(trainsamp).shape, np.array(valsamp).shape, np.array(testsamp).shape"
   ]
  },
  {
   "cell_type": "code",
   "execution_count": 122,
   "id": "8cb43144",
   "metadata": {},
   "outputs": [],
   "source": [
    "classes = ['vehicle', 'animal', 'household', 'building', 'furniture', 'plant', 'unknown']\n",
    "\n",
    "open('train.cla', 'w').close()\n",
    "\n",
    "with open('train.cla', 'a') as f:\n",
    "    for i in range(len(trainsamp)):\n",
    "        f.write(classes[i] + '\\n')\n",
    "        for j in trainsamp[i]:\n",
    "            f.write(str(j) + '\\n')\n",
    "        f.write('\\n')\n",
    "        \n",
    "open('val.cla', 'w').close()\n",
    "\n",
    "with open('val.cla', 'a') as f:\n",
    "    for i in range(len(valsamp)):\n",
    "        f.write(classes[i] + '\\n')\n",
    "        for j in valsamp[i]:\n",
    "            f.write(str(j) + '\\n')\n",
    "        f.write('\\n')\n",
    "        \n",
    "open('test.cla', 'w').close()\n",
    "\n",
    "with open('test.cla', 'a') as f:\n",
    "    for i in range(len(testsamp)):\n",
    "        f.write(classes[i] + '\\n')\n",
    "        for j in testsamp[i]:\n",
    "            f.write(str(j) + '\\n')\n",
    "        f.write('\\n')"
   ]
  },
  {
   "cell_type": "code",
   "execution_count": null,
   "id": "3245fbee",
   "metadata": {},
   "outputs": [],
   "source": []
  },
  {
   "cell_type": "code",
   "execution_count": null,
   "id": "3a318927",
   "metadata": {},
   "outputs": [],
   "source": []
  }
 ],
 "metadata": {
  "kernelspec": {
   "display_name": "Python 3 (ipykernel)",
   "language": "python",
   "name": "python3"
  },
  "language_info": {
   "codemirror_mode": {
    "name": "ipython",
    "version": 3
   },
   "file_extension": ".py",
   "mimetype": "text/x-python",
   "name": "python",
   "nbconvert_exporter": "python",
   "pygments_lexer": "ipython3",
   "version": "3.10.9"
  }
 },
 "nbformat": 4,
 "nbformat_minor": 5
}
