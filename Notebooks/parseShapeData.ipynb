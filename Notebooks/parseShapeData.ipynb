{
 "cells": [
  {
   "cell_type": "code",
   "execution_count": 224,
   "id": "eade05b2",
   "metadata": {},
   "outputs": [],
   "source": [
    "import os\n",
    "import torch\n",
    "import torch.nn as nn\n",
    "import torch.nn.functional as F\n",
    "\n",
    "import torch_geometric.nn as gnn\n",
    "from torch_geometric.data import Data, Dataset, DataLoader\n",
    "from torch_geometric.nn import MessagePassing, GCNConv, global_mean_pool\n",
    "from torch_geometric.nn.models import GIN,GCN,GAT\n",
    "from torch_geometric.utils import get_laplacian, add_self_loops, degree\n",
    "from torch_geometric.data import DataLoader"
   ]
  },
  {
   "cell_type": "code",
   "execution_count": 225,
   "id": "4ad14ee2",
   "metadata": {},
   "outputs": [],
   "source": [
    "from torch_geometric.utils import to_networkx"
   ]
  },
  {
   "cell_type": "code",
   "execution_count": 226,
   "id": "d35a16c7",
   "metadata": {},
   "outputs": [],
   "source": [
    "from sklearn.preprocessing import OneHotEncoder\n",
    "from sklearn.metrics import f1_score, precision_score, accuracy_score\n",
    "import numpy as np"
   ]
  },
  {
   "cell_type": "code",
   "execution_count": 14,
   "id": "e113ad9a",
   "metadata": {},
   "outputs": [],
   "source": [
    "import matplotlib.pyplot as plt"
   ]
  },
  {
   "cell_type": "code",
   "execution_count": 8,
   "id": "d881d3e1",
   "metadata": {},
   "outputs": [],
   "source": [
    "def parse_off(file_path):\n",
    "    with open(file_path, 'r') as f:\n",
    "        # Read the header and get the number of vertices and faces\n",
    "        f.readline()#skip 1st line\n",
    "        header = f.readline().strip().split(' ')\n",
    "        num_vertices = int(header[0])\n",
    "        num_faces = int(header[1])\n",
    "        \n",
    "        # Read the vertices\n",
    "        vertices = []\n",
    "        for i in range(num_vertices):\n",
    "            vertex = list(map(float, f.readline().strip().split(' ')))\n",
    "            vertices.append(vertex)\n",
    "        vertices = torch.tensor(vertices)\n",
    "        \n",
    "        # Read the faces and build the edges\n",
    "        edges = []\n",
    "        for i in range(num_faces):\n",
    "            face = list(map(int, f.readline().strip().split(' ')[1:]))\n",
    "            for j in range(len(face)):\n",
    "                edge = (face[j], face[(j+1)%len(face)])\n",
    "                edges.append(edge)\n",
    "        edges = torch.tensor(edges, dtype=torch.long)\n",
    "        \n",
    "        #Pad and trim to match dimensionality\n",
    "        #num_nodes = max(edges.max().item() + 1, vertices.size(0))\n",
    "        #new_x = torch.zeros((num_nodes, vertices.size(1)))\n",
    "        #new_x[:vertices.size(0), :] = vertices\n",
    "        \n",
    "        return Data(x=vertices, edge_index=edges.transpose(0,1))\n",
    "\n",
    "# Set the root folder that contains all the subfolders of .off files\n",
    "root_folder = 'PSB'\n",
    "\n",
    "# Get the subfolder names and corresponding categorization labels\n",
    "subfolder_names = [d for d in os.listdir(root_folder) if os.path.isdir(os.path.join(root_folder, d))]\n",
    "# Encode Labels\n",
    "enc = OneHotEncoder(handle_unknown='ignore')\n",
    "enc.fit(np.array(subfolder_names).reshape(-1, 1))\n",
    "labels = enc.transform(np.array(subfolder_names).reshape(-1, 1)).toarray()\n",
    "labels = torch.argmax(torch.tensor(labels),dim=1)\n",
    "#labels = [int(d.split('_')[0]) for d in subfolder_names]\n",
    "\n",
    "#Parsing all files and build a list of graph data objects\n",
    "graphs = []\n",
    "for subfolder_name, label in zip(subfolder_names, labels):\n",
    "    subfolder_path = os.path.join(root_folder, subfolder_name)\n",
    "    for filename in os.listdir(subfolder_path):\n",
    "        if filename.endswith('.off'):#Check file type\n",
    "            file_path = os.path.join(subfolder_path, filename)\n",
    "            graph = parse_off(file_path)\n",
    "            graph.y = torch.tensor([label])\n",
    "            graphs.append(graph)\n"
   ]
  },
  {
   "cell_type": "markdown",
   "id": "9d04cab5",
   "metadata": {},
   "source": [
    "from torch_geometric.data import DataLoader\n",
    "\n",
    "loader = DataLoader(graphs, batch_size= 32, drop_last=True)"
   ]
  },
  {
   "cell_type": "code",
   "execution_count": 10,
   "id": "6686a56f",
   "metadata": {},
   "outputs": [
    {
     "data": {
      "text/plain": [
       "380"
      ]
     },
     "execution_count": 10,
     "metadata": {},
     "output_type": "execute_result"
    }
   ],
   "source": [
    "#Filtered: 120\n",
    "len(graphs)"
   ]
  },
  {
   "cell_type": "code",
   "execution_count": 1,
   "id": "40cd8762",
   "metadata": {
    "scrolled": true
   },
   "outputs": [
    {
     "name": "stderr",
     "output_type": "stream",
     "text": [
      "D:\\anaconda3\\envs\\pygProj\\lib\\site-packages\\tqdm\\auto.py:22: TqdmWarning: IProgress not found. Please update jupyter and ipywidgets. See https://ipywidgets.readthedocs.io/en/stable/user_install.html\n",
      "  from .autonotebook import tqdm as notebook_tqdm\n"
     ]
    }
   ],
   "source": [
    "from torch_geometric.data import InMemoryDataset, Data\n",
    "\n",
    "class MyDataset(InMemoryDataset):\n",
    "    def __init__(self, data_list):\n",
    "        super().__init__()\n",
    "        self.data_list = data_list\n",
    "        \n",
    "    @property\n",
    "    def num_classes(self):\n",
    "        num_classes = [data.y for data in self.data_list]\n",
    "        return len(torch.unique(torch.tensor(num_classes)))\n",
    "        \n",
    "    def __len__(self):\n",
    "        return len(self.data_list)\n",
    "\n",
    "    def __getitem__(self, index):\n",
    "        return self.data_list[index]"
   ]
  },
  {
   "cell_type": "code",
   "execution_count": 234,
   "id": "dfd4431e",
   "metadata": {},
   "outputs": [],
   "source": [
    "psb_set = MyDataset(graphs)\n",
    "torch.save(psb_set,'psb.pt')"
   ]
  },
  {
   "cell_type": "code",
   "execution_count": null,
   "id": "a725e716",
   "metadata": {},
   "outputs": [],
   "source": []
  }
 ],
 "metadata": {
  "kernelspec": {
   "display_name": "Python 3",
   "language": "python",
   "name": "python3"
  },
  "language_info": {
   "codemirror_mode": {
    "name": "ipython",
    "version": 3
   },
   "file_extension": ".py",
   "mimetype": "text/x-python",
   "name": "python",
   "nbconvert_exporter": "python",
   "pygments_lexer": "ipython3",
   "version": "3.6.13"
  }
 },
 "nbformat": 4,
 "nbformat_minor": 5
}
