{
 "cells": [
  {
   "cell_type": "code",
   "execution_count": 8,
   "id": "eade05b2",
   "metadata": {},
   "outputs": [],
   "source": [
    "import os\n",
    "import torch\n",
    "import torch.nn as nn\n",
    "import torch.nn.functional as F\n",
    "\n",
    "from torch_geometric.data import Data, Dataset, DataLoader\n",
    "from torch_geometric.loader import DataLoader"
   ]
  },
  {
   "cell_type": "code",
   "execution_count": 7,
   "id": "d881d3e1",
   "metadata": {},
   "outputs": [],
   "source": [
    "def parse_off(file_path):\n",
    "    with open(file_path, 'r') as f:\n",
    "        # Read the header and get the number of vertices and faces\n",
    "        f.readline()#skip 1st line\n",
    "        header = f.readline().strip().split(' ')\n",
    "        num_vertices = int(header[0])\n",
    "        num_faces = int(header[1])\n",
    "        \n",
    "        # Read the vertices\n",
    "        vertices = []\n",
    "        for i in range(num_vertices):\n",
    "            vertex = list(map(float, f.readline().strip().split(' ')))\n",
    "            vertices.append(vertex)\n",
    "        vertices = torch.tensor(vertices)\n",
    "        \n",
    "        # Read the faces and build the edges\n",
    "        edges = []\n",
    "        for i in range(num_faces):\n",
    "            face = list(map(int, f.readline().strip().split(' ')[1:]))\n",
    "            for j in range(len(face)):\n",
    "                edge = (face[j], face[(j+1)%len(face)])\n",
    "                edges.append(edge)\n",
    "        edges = torch.tensor(edges, dtype=torch.long)\n",
    "        \n",
    "        #Pad and trim to match dimensionality\n",
    "        #num_nodes = max(edges.max().item() + 1, vertices.size(0))\n",
    "        #new_x = torch.zeros((num_nodes, vertices.size(1)))\n",
    "        #new_x[:vertices.size(0), :] = vertices\n",
    "        \n",
    "        return Data(x=vertices, edge_index=edges.transpose(0,1))\n",
    "\n",
    "# Set the root folder that contains all the subfolders of .off files\n",
    "root_folder = 'PSB'\n",
    "\n",
    "# Get the subfolder names and corresponding categorization labels\n",
    "subfolder_names = [d for d in os.listdir(root_folder) if os.path.isdir(os.path.join(root_folder, d))]\n",
    "# Encode Labels\n",
    "enc = OneHotEncoder(handle_unknown='ignore')\n",
    "enc.fit(np.array(subfolder_names).reshape(-1, 1))\n",
    "labels = enc.transform(np.array(subfolder_names).reshape(-1, 1)).toarray()\n",
    "labels = torch.argmax(torch.tensor(labels),dim=1)\n",
    "#labels = [int(d.split('_')[0]) for d in subfolder_names]\n",
    "\n",
    "#Parsing all files and build a list of graph data objects\n",
    "graphs = []\n",
    "for subfolder_name, label in zip(subfolder_names, labels):\n",
    "    subfolder_path = os.path.join(root_folder, subfolder_name)\n",
    "    for filename in os.listdir(subfolder_path):\n",
    "        if filename.endswith('.off'):#Check file type\n",
    "            file_path = os.path.join(subfolder_path, filename)\n",
    "            graph = parse_off(file_path)\n",
    "            graph.y = torch.tensor([label])\n",
    "            graphs.append(graph)\n"
   ]
  },
  {
   "cell_type": "code",
   "execution_count": 13,
   "id": "4a141827",
   "metadata": {},
   "outputs": [],
   "source": [
    "# Call dataloader directly\n",
    "#loader = DataLoader(graphs, batch_size= 32, drop_last=True)"
   ]
  },
  {
   "cell_type": "code",
   "execution_count": 10,
   "id": "6686a56f",
   "metadata": {},
   "outputs": [
    {
     "data": {
      "text/plain": [
       "380"
      ]
     },
     "execution_count": 10,
     "metadata": {},
     "output_type": "execute_result"
    }
   ],
   "source": [
    "#Filtered: 120\n",
    "len(graphs)"
   ]
  },
  {
   "cell_type": "code",
   "execution_count": 18,
   "id": "40cd8762",
   "metadata": {
    "scrolled": true
   },
   "outputs": [],
   "source": [
    "from torch_geometric.data import InMemoryDataset\n",
    "\n",
    "class MyDataset(InMemoryDataset):\n",
    "    def __init__(self, data_list):\n",
    "        super().__init__()\n",
    "        self.data_list = data_list\n",
    "        \n",
    "    @property\n",
    "    def num_classes(self):\n",
    "        num_classes = [data.y for data in self.data_list]\n",
    "        return len(torch.unique(torch.tensor(num_classes)))\n",
    "        \n",
    "    def __len__(self):\n",
    "        return len(self.data_list)\n",
    "\n",
    "    def __getitem__(self, index):\n",
    "        return self.data_list[index]"
   ]
  },
  {
   "cell_type": "code",
   "execution_count": 19,
   "id": "a725e716",
   "metadata": {},
   "outputs": [],
   "source": [
    "psb_set = torch.load('psb.pt')"
   ]
  },
  {
   "cell_type": "code",
   "execution_count": null,
   "id": "c5284582",
   "metadata": {},
   "outputs": [],
   "source": []
  }
 ],
 "metadata": {
  "kernelspec": {
   "display_name": "Python 3",
   "language": "python",
   "name": "python3"
  },
  "language_info": {
   "codemirror_mode": {
    "name": "ipython",
    "version": 3
   },
   "file_extension": ".py",
   "mimetype": "text/x-python",
   "name": "python",
   "nbconvert_exporter": "python",
   "pygments_lexer": "ipython3",
   "version": "3.6.13"
  }
 },
 "nbformat": 4,
 "nbformat_minor": 5
}
